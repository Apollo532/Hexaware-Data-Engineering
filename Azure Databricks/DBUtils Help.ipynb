{
 "cells": [
  {
   "cell_type": "code",
   "execution_count": 0,
   "metadata": {
    "application/vnd.databricks.v1+cell": {
     "cellMetadata": {},
     "inputWidgets": {},
     "nuid": "a27e73cf-c0d3-473a-85c6-7352f9441b8b",
     "showTitle": false,
     "title": ""
    }
   },
   "outputs": [],
   "source": [
    "#dbutils.notebook.help() # two options to run - exit and run. run from another source or in a specific execution order.\n",
    "#dbutils.notebook.run(\"notebookpath\",\"timeout\") #running a child notebook from a wrapper"
   ]
  },
  {
   "cell_type": "code",
   "execution_count": 0,
   "metadata": {
    "application/vnd.databricks.v1+cell": {
     "cellMetadata": {
      "byteLimit": 2048000,
      "rowLimit": 10000
     },
     "inputWidgets": {},
     "nuid": "f88651bc-24b7-472c-995c-b67f6be8a8bb",
     "showTitle": false,
     "title": ""
    }
   },
   "outputs": [
    {
     "output_type": "display_data",
     "data": {
      "text/html": [
       "<div class = \"ansiout\">\n",
       "This module provides various utilities for users to interact with the rest of Databricks.\n",
       "  <h3></h3><b>credentials: DatabricksCredentialUtils</b> -> Utilities for interacting with credentials within notebooks<br /><b>data: DataUtils</b> -> Utilities for understanding and interacting with datasets (EXPERIMENTAL)<br /><b>fs: DbfsUtils</b> -> Manipulates the Databricks filesystem (DBFS) from the console<br /><b>jobs: JobsUtils</b> -> Utilities for leveraging jobs features<br /><b>library: LibraryUtils</b> -> Utilities for session isolated libraries<br /><b>meta: MetaUtils</b> -> Methods to hook into the compiler (EXPERIMENTAL)<br /><b>notebook: NotebookUtils</b> -> Utilities for the control flow of a notebook (EXPERIMENTAL)<br /><b>preview: Preview</b> -> Utilities under preview category<br /><b>secrets: SecretUtils</b> -> Provides utilities for leveraging secrets within notebooks<br /><b>widgets: WidgetsUtils</b> -> Methods to create and get bound value of input widgets inside notebooks<br /><br /></div>"
      ]
     },
     "metadata": {},
     "output_type": "display_data"
    }
   ],
   "source": [
    "dbutils.help()"
   ]
  },
  {
   "cell_type": "code",
   "execution_count": 0,
   "metadata": {
    "application/vnd.databricks.v1+cell": {
     "cellMetadata": {},
     "inputWidgets": {},
     "nuid": "b1a6ab12-b11d-435a-bfab-307188dc0bb4",
     "showTitle": false,
     "title": ""
    }
   },
   "outputs": [],
   "source": [
    "dbutils.fs.help('cp') #Provides info about cp command\n",
    "dbutils.fs.ls('/') # Lists all files under root in DBFS\n",
    "\n",
    "dbutils.fs.head('/databricks/driver/python/dbutils.py') #Shows the file content\n",
    "\n",
    "#dbutils.fs.mkdirs('FileStore/Temp') Creates directory named temp in the FileStore\n",
    "\n",
    "#dbutils.fs.mv('FileStore/Temp','FileStore/Temp2', True) Copies file from source to destination and then deletes from source\n"
   ]
  },
  {
   "cell_type": "code",
   "execution_count": 0,
   "metadata": {
    "application/vnd.databricks.v1+cell": {
     "cellMetadata": {},
     "inputWidgets": {},
     "nuid": "c55690e9-f489-45f8-81fd-b5dabc254602",
     "showTitle": false,
     "title": ""
    }
   },
   "outputs": [],
   "source": [
    "#Data Utility\n",
    "\n",
    "#dbutils.data.summarize(dataframe) # Gives profile/stats of the dataframe"
   ]
  },
  {
   "cell_type": "code",
   "execution_count": 0,
   "metadata": {
    "application/vnd.databricks.v1+cell": {
     "cellMetadata": {
      "byteLimit": 2048000,
      "rowLimit": 10000
     },
     "inputWidgets": {},
     "nuid": "b9599c89-b731-4d18-98e9-88a8c90eef8f",
     "showTitle": false,
     "title": ""
    }
   },
   "outputs": [
    {
     "output_type": "display_data",
     "data": {
      "text/html": [
       "<div class = \"ansiout\"><b>dbutils.widgets</b> provides utilities for working with notebook widgets. You can create\n",
       "different types of widgets and get their bound value.\n",
       "\n",
       "For more info about a method, use <b>dbutils.widgets.help(\"methodName\")</b>.\n",
       "    <h3></h3><b>combobox(name: String, defaultValue: String, choices: Seq, label: String): void</b> -> Creates a combobox input widget with a given name, default value and choices<br /><b>dropdown(name: String, defaultValue: String, choices: Seq, label: String): void</b> -> Creates a dropdown input widget a with given name, default value and choices<br /><b>get(name: String): String</b> -> Retrieves current value of an input widget<br /><b>getAll: Map</b> -> Retrieves a mapping of all current values of the input widgets<br /><b>getArgument(name: String, optional: String): String</b> -> (DEPRECATED) Equivalent to get<br /><b>multiselect(name: String, defaultValue: String, choices: Seq, label: String): void</b> -> Creates a multiselect input widget with a given name, default value and choices<br /><b>remove(name: String): void</b> -> Removes an input widget from the notebook<br /><b>removeAll: void</b> -> Removes all widgets in the notebook<br /><b>text(name: String, defaultValue: String, label: String): void</b> -> Creates a text input widget with a given name and default value<br /><br /></div>"
      ]
     },
     "metadata": {},
     "output_type": "display_data"
    }
   ],
   "source": [
    "dbutils.widgets.help()"
   ]
  },
  {
   "cell_type": "code",
   "execution_count": 0,
   "metadata": {
    "application/vnd.databricks.v1+cell": {
     "cellMetadata": {},
     "inputWidgets": {},
     "nuid": "c0842192-0af6-41ed-a900-2be0078715ad",
     "showTitle": false,
     "title": ""
    }
   },
   "outputs": [],
   "source": [
    "dbutils.widgets.combobox(name = 'orderstatus' , defaultValue =\n",
    "'CLOSED' , choices = [ 'CLOSED', 'COMPLETE' , 'PROCESSING' ] , label =\n",
    "'ORDER STATUS') #Making combobox widget\n",
    "'''\n",
    "df = spark.read.csv(\"path for orders csv\", header = True)\n",
    "os = dbutils.widgets.get('orderstatus')'''"
   ]
  },
  {
   "cell_type": "code",
   "execution_count": 0,
   "metadata": {
    "application/vnd.databricks.v1+cell": {
     "cellMetadata": {},
     "inputWidgets": {},
     "nuid": "2059238d-13a1-4de2-bb51-71f3ce36d733",
     "showTitle": false,
     "title": ""
    }
   },
   "outputs": [],
   "source": [
    "dbutils.notebook.run('<File-Path-of-child-NoteBook>',< Timeout> ,\n",
    "{'<Parameter>' : '<Parameier-Value>'})\n",
    "\n",
    "dbutils.notebook.runC/Users/trendytech.sumit@outlook.com/dbutilsdemo' ,\n",
    ", {'orderstatus' : 'CLOSED'))"
   ]
  },
  {
   "cell_type": "code",
   "execution_count": 0,
   "metadata": {
    "application/vnd.databricks.v1+cell": {
     "cellMetadata": {},
     "inputWidgets": {},
     "nuid": "45658516-e251-473f-baf2-86739580d027",
     "showTitle": false,
     "title": ""
    }
   },
   "outputs": [],
   "source": [
    "dbutils.widgets.dropdown(name = 'orderstatus' , defaultValue =\n",
    "'CLOSED' , choices = [ 'CLOSED', 'COMPLETE' , 'PROCESSING' ] , label =\n",
    "'ORDER STATUS')"
   ]
  },
  {
   "cell_type": "code",
   "execution_count": 0,
   "metadata": {
    "application/vnd.databricks.v1+cell": {
     "cellMetadata": {},
     "inputWidgets": {},
     "nuid": "d64dbc7a-af21-4a71-bbb3-bafbd7e26eec",
     "showTitle": false,
     "title": ""
    }
   },
   "outputs": [],
   "source": [
    "dbutils.widgets.multiselect(name = 'orderstatus' , defaultValue =\n",
    "'CLOSED' , choices = [ 'CLOSED', 'COMPLETE' , 'PROCESSING' ] , label =\n",
    "'ORDER STATUS')"
   ]
  },
  {
   "cell_type": "code",
   "execution_count": 0,
   "metadata": {
    "application/vnd.databricks.v1+cell": {
     "cellMetadata": {},
     "inputWidgets": {},
     "nuid": "6483ec85-8cdb-423d-924a-f46902fb8bc7",
     "showTitle": false,
     "title": ""
    }
   },
   "outputs": [],
   "source": [
    "dbutils.widgets.text(name = 'orderstatus' , defaultValue =\n",
    "'CLOSED' , label = 'ORDER STATUS')"
   ]
  },
  {
   "cell_type": "code",
   "execution_count": 0,
   "metadata": {
    "application/vnd.databricks.v1+cell": {
     "cellMetadata": {},
     "inputWidgets": {},
     "nuid": "106df9d7-e06c-450f-ae63-16720432f885",
     "showTitle": false,
     "title": ""
    }
   },
   "outputs": [],
   "source": [
    "#Passing parameters from one NB to Another\n",
    "dbutils.notebook.run('<File-Path-of-child-NoteBook>' , <Tlmeout> ,\n",
    "{'<Parameter>' : '<Parameter-Value>'})\n",
    "\n",
    "dbutils.notebook.run('/Users/trendytech.sumit@outlook.com/dbutilsdemo' ,\n",
    "<Tmeout> , {'orderstatus' : 'CLOSED'))"
   ]
  },
  {
   "cell_type": "code",
   "execution_count": 0,
   "metadata": {
    "application/vnd.databricks.v1+cell": {
     "cellMetadata": {},
     "inputWidgets": {},
     "nuid": "e2c3772d-9109-4bd5-8735-c8e7b1a34c91",
     "showTitle": false,
     "title": ""
    }
   },
   "outputs": [],
   "source": [
    "#Mount Point\n",
    "#Mount point is used to mount the given source data directory (like the Azure Blob) into Databricks File System (DBFS)\n",
    "dbutils.fs.help('mount') # To get more information about mount points."
   ]
  },
  {
   "cell_type": "code",
   "execution_count": 0,
   "metadata": {
    "application/vnd.databricks.v1+cell": {
     "cellMetadata": {},
     "inputWidgets": {},
     "nuid": "de2739d3-673d-4b8e-8cb7-34e1a8b4429e",
     "showTitle": false,
     "title": ""
    }
   },
   "outputs": [],
   "source": [
    "#In order to make the data files uploaded to the Azure Storage Account\n",
    "# Container to be available in DBFS, it is required to mount the data to DBFS.\n",
    "dbutils.fs.mount(source, mount_point, extra_configs)\n",
    "'''\n",
    "#source\n",
    "wasbs://<Container-Name>@<Storage-Account-Name>.bIob.core.windows.net\n",
    "#mount_point Could be any name for the mount point\n",
    "extra_configs {'fs.azure.account.key.<Storage-Account-Name>' :\n",
    "'<Storage-Account-Access-Key-Value>'}'''\n"
   ]
  },
  {
   "cell_type": "code",
   "execution_count": 0,
   "metadata": {
    "application/vnd.databricks.v1+cell": {
     "cellMetadata": {},
     "inputWidgets": {},
     "nuid": "083fc3f5-f0b1-46e0-8cfc-621f9aee1816",
     "showTitle": false,
     "title": ""
    }
   },
   "outputs": [],
   "source": [
    "Updating and Unmounting the Mount Point\n",
    "dbutils.fs.mounts() Displays all the mount points\n",
    "dbutils.fs.unmount('<mount-point>') Removing the mount point\n",
    "dbutils.fs.updateMount('<old-mount-point-name>' ,\n",
    "'<new-mount-point-name>' , True) Updating the name of mount point"
   ]
  }
 ],
 "metadata": {
  "application/vnd.databricks.v1+notebook": {
   "dashboards": [],
   "environmentMetadata": null,
   "language": "python",
   "notebookMetadata": {
    "pythonIndentUnit": 4
   },
   "notebookName": "DBUtils Help",
   "widgets": {}
  }
 },
 "nbformat": 4,
 "nbformat_minor": 0
}
