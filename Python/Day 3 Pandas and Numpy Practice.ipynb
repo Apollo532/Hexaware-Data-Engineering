{
 "cells": [
  {
   "cell_type": "code",
   "execution_count": 4,
   "id": "16f62783-f96f-4d20-ab26-54924178270a",
   "metadata": {},
   "outputs": [],
   "source": [
    "import numpy as np\n",
    "import pandas as pd"
   ]
  },
  {
   "cell_type": "code",
   "execution_count": 8,
   "id": "3b9af4c9-26c6-4c05-8df0-d8e18a3b3f79",
   "metadata": {},
   "outputs": [
    {
     "name": "stdout",
     "output_type": "stream",
     "text": [
      "Negated array:  [-2.  -0.5  1.  -2.5 -4.  -5.5  7.   8.5]\n"
     ]
    }
   ],
   "source": [
    "#Q1: Form a 1D array containing elements from -2 (including) to 10 (excluding) in arithmetic progression, negate all elements between 2 and 7.\n",
    "a = np.arange(-2,10,1.5)\n",
    "def negarr(x):\n",
    "    x[(x>2) & (x<7)] *= -1\n",
    "    print('Negated array: ', x)\n",
    "negarr(a)"
   ]
  },
  {
   "cell_type": "code",
   "execution_count": 20,
   "id": "89644132-341c-46c8-981b-4ca0ac38ebbf",
   "metadata": {},
   "outputs": [
    {
     "name": "stdout",
     "output_type": "stream",
     "text": [
      "[7.         2.         0.76008183 0.75881784 0.62905887 0.44194208\n",
      " 0.3092889 ]\n"
     ]
    }
   ],
   "source": [
    "# Q2 Create a random vector of size 7 and replace the maximum value with 2 and the minimum with 7. Sort this array in reverse order.\n",
    "\n",
    "x = np.random.rand(7)\n",
    "def edit(a):\n",
    "    a[a.argmax()] = 2\n",
    "    a[a.argmin()] = 7\n",
    "    a = np.sort(a)[::-1]\n",
    "    print(a)\n",
    "edit(x)"
   ]
  },
  {
   "cell_type": "code",
   "execution_count": 22,
   "id": "522d4e37-3095-4e99-be1e-5e658ae8bc89",
   "metadata": {},
   "outputs": [
    {
     "name": "stdout",
     "output_type": "stream",
     "text": [
      "Cartesian Coordinates:\n",
      " [[0.24258121 0.38105461]\n",
      " [0.15789089 0.32514457]\n",
      " [0.36564389 0.07617523]\n",
      " [0.70449335 0.17281552]\n",
      " [0.41881232 0.45221311]\n",
      " [0.14589677 0.65901658]\n",
      " [0.29218185 0.31707946]]\n",
      "Polar Coordinates (r, theta):\n",
      " [[0.45171701 1.00389544]\n",
      " [0.36145335 1.11873323]\n",
      " [0.37349447 0.20539388]\n",
      " [0.72537996 0.24055469]\n",
      " [0.61636065 0.8237259 ]\n",
      " [0.67497313 1.35292479]\n",
      " [0.43117237 0.82624068]]\n"
     ]
    }
   ],
   "source": [
    "#Q3. Convert a random 7x2 matrix (representing cartesian coordinates) to polar coordinates.\n",
    "\n",
    "cartesian_coords = np.random.rand(7, 2)\n",
    "r = np.sqrt(cartesian_coords[:, 0]**2 + cartesian_coords[:, 1]**2)\n",
    "theta = np.arctan2(cartesian_coords[:, 1], cartesian_coords[:, 0])\n",
    "print(\"Cartesian Coordinates:\\n\", cartesian_coords)\n",
    "print(\"Polar Coordinates (r, theta):\\n\", np.column_stack((r, theta)))"
   ]
  },
  {
   "cell_type": "code",
   "execution_count": 24,
   "id": "71081655-afc2-4055-a4f9-8f6c9a54545b",
   "metadata": {},
   "outputs": [
    {
     "name": "stdout",
     "output_type": "stream",
     "text": [
      "[10 12 14 16 18 20 22 24]\n"
     ]
    }
   ],
   "source": [
    "#Q4. Create a numpy array sequence with given start, step size, and length.\n",
    "\n",
    "def create_arr(start,step,length):\n",
    "    return np.arange(start, start + step*length, step)\n",
    "\n",
    "arr = create_arr(10,2,8)\n",
    "print(arr)"
   ]
  },
  {
   "cell_type": "code",
   "execution_count": 28,
   "id": "dc832d42-89cd-433a-8afb-f554ae44a91e",
   "metadata": {},
   "outputs": [
    {
     "name": "stdout",
     "output_type": "stream",
     "text": [
      "Original matrix:\n",
      " [[ 1.     2.125  3.25 ]\n",
      " [ 4.375  5.5    6.625]\n",
      " [ 7.75   8.875 10.   ]]\n",
      "Transpose: \n",
      " [[ 1.     4.375  7.75 ]\n",
      " [ 2.125  5.5    8.875]\n",
      " [ 3.25   6.625 10.   ]]\n",
      "Subt Result: \n",
      " [[0.    3.375 6.75 ]\n",
      " [1.125 4.5   7.875]\n",
      " [2.25  5.625 9.   ]]\n"
     ]
    }
   ],
   "source": [
    "#Q5. Make a 3x3 array from evenly spaced numbers, transpose it, and subtract a 1x3 array of ones.\n",
    "\n",
    "a1 = np.linspace(1,10,9)\n",
    "a2 = a1.reshape(3,3)\n",
    "a3 = a2.T\n",
    "a4 = a3 - np.ones((1,3))\n",
    "\n",
    "print('Original matrix:\\n', a2)\n",
    "print('Transpose: \\n', a3)\n",
    "print('Subt Result: \\n', a4)"
   ]
  },
  {
   "cell_type": "code",
   "execution_count": 30,
   "id": "5725a640-63df-4d2c-af97-e5c83c1565e0",
   "metadata": {},
   "outputs": [
    {
     "name": "stdout",
     "output_type": "stream",
     "text": [
      "2016-01-01    0.794868\n",
      "2016-01-04   -0.351796\n",
      "2016-01-05   -1.043909\n",
      "2016-01-06   -0.522578\n",
      "2016-01-07    0.058772\n",
      "                ...   \n",
      "2016-12-26   -0.813083\n",
      "2016-12-27   -0.527356\n",
      "2016-12-28   -0.641716\n",
      "2016-12-29   -2.031435\n",
      "2016-12-30   -1.730670\n",
      "Freq: B, Length: 261, dtype: float64\n"
     ]
    }
   ],
   "source": [
    "#Q6. Create a DatetimeIndex containing business days of 2016 and use it to index a Series of random numbers.\n",
    "\n",
    "days = pd.date_range(start = '2016-01-01', end = '2016-12-31', freq = 'B')\n",
    "\n",
    "bus_2k16 = pd.Series(np.random.randn(len(days)), index = days)\n",
    "print(bus_2k16)"
   ]
  },
  {
   "cell_type": "code",
   "execution_count": 32,
   "id": "8aba3299-baa1-44da-af69-667980d5c2d2",
   "metadata": {},
   "outputs": [
    {
     "name": "stdout",
     "output_type": "stream",
     "text": [
      "Monthly Mean:\n",
      " 2016-01-31    0.286685\n",
      "2016-02-29   -0.087661\n",
      "2016-03-31    0.125482\n",
      "2016-04-30    0.404862\n",
      "2016-05-31    0.106641\n",
      "2016-06-30   -0.134998\n",
      "2016-07-31   -0.087443\n",
      "2016-08-31   -0.013744\n",
      "2016-09-30    0.046176\n",
      "2016-10-31   -0.260893\n",
      "2016-11-30   -0.055757\n",
      "2016-12-31   -0.165112\n",
      "Freq: M, dtype: float64\n",
      "Sum of values on Sundays:\n",
      " Series([], Freq: W-SUN, dtype: float64)\n"
     ]
    }
   ],
   "source": [
    "#Q7. For each calendar month in bus_2k16, find the mean and sum of values for Sundays.\n",
    "\n",
    "monthly_mean = bus_2k16.resample('M').mean()\n",
    "\n",
    "sundays_sum = bus_2k16[bus_2k16.index.weekday == 6].resample('W-SUN').sum()\n",
    "\n",
    "print(\"Monthly Mean:\\n\", monthly_mean)\n",
    "print(\"Sum of values on Sundays:\\n\", sundays_sum)"
   ]
  },
  {
   "cell_type": "code",
   "execution_count": 34,
   "id": "8fed1049-f83b-4ceb-8afa-29225d27fe0c",
   "metadata": {},
   "outputs": [
    {
     "name": "stdout",
     "output_type": "stream",
     "text": [
      "       From         To\n",
      "0    London      Paris\n",
      "1    Madrid      Milan\n",
      "2    London  Stockholm\n",
      "3  Budapest      Paris\n",
      "4  Brussels     London\n"
     ]
    }
   ],
   "source": [
    "#Q8. Split the From_To column in df and standardize the strings.\n",
    "df = pd.DataFrame({'From_To': ['LoNDon_paris', 'MAdrid_miLAN', 'londON_StockhOlm', \n",
    "                              'Budapest_PaRis', 'Brussels_londOn'],\n",
    "                  'FlightNumber': [10045, np.nan, 10065, np.nan, 10085],\n",
    "                  'RecentDelays': [[23, 47], [], [24, 43, 87], [13], [67, 32]],\n",
    "                  'Airline': ['KLM(!)', '<Air France> (12)', '(British Airways. )', \n",
    "                              '12. Air France', '\"Swiss Air\"']})\n",
    "\n",
    "temp = df['From_To'].str.split('_', expand = True)\n",
    "temp.columns = ['From','To']\n",
    "temp['From'] = temp['From'].str.capitalize()\n",
    "temp['To'] = temp['To'].str.capitalize()\n",
    "print(temp)"
   ]
  },
  {
   "cell_type": "code",
   "execution_count": 36,
   "id": "d26582cf-f6af-4580-8d2d-8def3c630e3b",
   "metadata": {},
   "outputs": [
    {
     "name": "stdout",
     "output_type": "stream",
     "text": [
      "Column with smallest sum: col7\n",
      "Number of unique rows: 100\n"
     ]
    }
   ],
   "source": [
    "#Q9. Find the column with the smallest sum and count the number of unique rows in the DataFrame.\n",
    "\n",
    "df = pd.DataFrame(np.random.rand(100, 10), columns=[f'col{i}' for i in range(10)])\n",
    "smallest_sum_column = df.sum().idxmin()\n",
    "unique_rows_count = df.drop_duplicates().shape[0]\n",
    "\n",
    "print(\"Column with smallest sum:\", smallest_sum_column)\n",
    "print(\"Number of unique rows:\", unique_rows_count)"
   ]
  },
  {
   "cell_type": "code",
   "execution_count": 38,
   "id": "57eb8830-06e2-411d-b91d-a0c986e8cbcc",
   "metadata": {},
   "outputs": [
    {
     "name": "stdout",
     "output_type": "stream",
     "text": [
      "Filtered DataFrame:\n",
      "    int\n",
      "0    1\n",
      "1    2\n",
      "3    3\n",
      "6    4\n",
      "7    5\n",
      "9    6\n",
      "DataFrame after subtracting the mean:\n",
      "    int\n",
      "0 -2.4\n",
      "1 -1.4\n",
      "2 -1.4\n",
      "3 -0.4\n",
      "4 -0.4\n",
      "5 -0.4\n",
      "6  0.6\n",
      "7  1.6\n",
      "8  1.6\n",
      "9  2.6\n"
     ]
    }
   ],
   "source": [
    "#Q 10. Filter out rows where the 'int' column has the same value as the row above and subtract the mean.\n",
    "\n",
    "df = pd.DataFrame({'int': [1, 2, 2, 3, 3, 3, 4, 5, 5, 6]})\n",
    "\n",
    "\n",
    "df_filtered = df[df['int'] != df['int'].shift()]\n",
    "df_subt = df - df['int'].mean()\n",
    "\n",
    "print(\"Filtered DataFrame:\\n\", df_filtered)\n",
    "print(\"DataFrame after subtracting the mean:\\n\", df_subt)"
   ]
  }
 ],
 "metadata": {
  "kernelspec": {
   "display_name": "Python 3 (ipykernel)",
   "language": "python",
   "name": "python3"
  },
  "language_info": {
   "codemirror_mode": {
    "name": "ipython",
    "version": 3
   },
   "file_extension": ".py",
   "mimetype": "text/x-python",
   "name": "python",
   "nbconvert_exporter": "python",
   "pygments_lexer": "ipython3",
   "version": "3.11.5"
  }
 },
 "nbformat": 4,
 "nbformat_minor": 5
}
