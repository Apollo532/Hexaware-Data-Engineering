{
 "cells": [
  {
   "cell_type": "code",
   "execution_count": 4,
   "id": "62366360-f024-4ff2-b405-1625045700f6",
   "metadata": {},
   "outputs": [
    {
     "name": "stdout",
     "output_type": "stream",
     "text": [
      "[0 0 2 0 0 0 2]\n"
     ]
    }
   ],
   "source": [
    "#1. Create a null vector of size 7 but the third and last value as 2.\n",
    "import numpy as np\n",
    "\n",
    "null_v = np.zeros(7, dtype = np.int32)\n",
    "null_v[2] = 2\n",
    "null_v[-1] = 2\n",
    "print(null_v)\n"
   ]
  },
  {
   "cell_type": "code",
   "execution_count": 48,
   "id": "fa35225d-d13d-4b0b-8076-f208486612ef",
   "metadata": {},
   "outputs": [
    {
     "name": "stdout",
     "output_type": "stream",
     "text": [
      "[0.2 0.4 0.6 0.8 1.  1.2 1.4 1.6 1.8]\n"
     ]
    }
   ],
   "source": [
    "#2. Create a vector of size 9 with values ranging from 0 to 2, both excluded.\n",
    "vec = np.linspace(0, 2, 11, endpoint= True)[1:-1]\n",
    "print(vec)"
   ]
  },
  {
   "cell_type": "code",
   "execution_count": 10,
   "id": "38c2a6d5-a8a5-41c0-a09a-f86c118594e5",
   "metadata": {},
   "outputs": [
    {
     "name": "stdout",
     "output_type": "stream",
     "text": [
      "0    Romario\n",
      "1    Haaland\n",
      "2    Lautaro\n",
      "dtype: object\n"
     ]
    }
   ],
   "source": [
    "#3. Convert the first character of each element in a series to uppercase? And return the new series - pandas\n",
    "import pandas as pd\n",
    "series = pd.Series(['romario', 'haaland', 'lautaro'])\n",
    "new_series = series.str.capitalize()\n",
    "print(new_series)\n"
   ]
  },
  {
   "cell_type": "code",
   "execution_count": 12,
   "id": "e80403be-cfa0-4453-bf65-a5e60e89edf6",
   "metadata": {},
   "outputs": [
    {
     "name": "stdout",
     "output_type": "stream",
     "text": [
      "[[-0.5  0.   0.5]\n",
      " [-0.5  0.   0.5]\n",
      " [-0.5  0.   0.5]]\n"
     ]
    }
   ],
   "source": [
    "#4. Given a 3*3 matrix named matrix_fab, From each element of this matrix subtract the mean of that row, name this\n",
    "#matrix as matrix_sub. Divide each element of this matrix by twice of the largest element to get matrix_norm. Print it out.\n",
    "\n",
    "import numpy as np\n",
    "matrix_fab = np.array([[4, 5, 6], [7, 8, 9], [1, 2, 3]])\n",
    "matrix_sub = matrix_fab - matrix_fab.mean(axis=1, keepdims=True)\n",
    "matrix_norm = matrix_sub / (2 * np.max(matrix_sub))\n",
    "print(matrix_norm)\n"
   ]
  },
  {
   "cell_type": "code",
   "execution_count": 26,
   "id": "ccda0703-32c3-4169-9537-bfd1dbb1caf8",
   "metadata": {},
   "outputs": [
    {
     "name": "stdout",
     "output_type": "stream",
     "text": [
      "[[0.89009992 0.85152899 0.68268681]\n",
      " [0.67266099 0.5751075  0.57295716]\n",
      " [0.42001591 0.14252268 0.1326987 ]\n",
      " [0.11126675 0.06373951 0.06127411]]\n"
     ]
    }
   ],
   "source": [
    "#5. Create a random vector of size 12 , sort it in decreasing order, make 4*3 array using it.\n",
    "random_v = np.random.rand(12)\n",
    "\n",
    "random_v.sort()\n",
    "random_v = random_v[::-1]\n",
    "array = random_v.reshape(4, 3)\n",
    "print(array)"
   ]
  },
  {
   "cell_type": "code",
   "execution_count": 30,
   "id": "c4f39f1e-ecef-4d56-b9dc-af65ba6fa43c",
   "metadata": {},
   "outputs": [
    {
     "name": "stdout",
     "output_type": "stream",
     "text": [
      "  animal  age  visits priority\n",
      "3    dog  NaN       3      yes\n",
      "7    cat  NaN       1      yes\n"
     ]
    }
   ],
   "source": [
    "#6. Create a DataFrame df from dictionary data and select rows where the age is NaN.\n",
    "import pandas as pd\n",
    "import numpy as np\n",
    "\n",
    "data = {'animal': ['cat', 'cat', 'snake', 'dog', 'dog', 'cat', 'snake', 'cat', 'dog', 'dog'],\n",
    "        'age': [2.5, 3, 0.5, np.nan, 5, 2, 4.5, np.nan, 7, 3],\n",
    "        'visits': [1, 3, 2, 3, 2, 3, 1, 1, 2, 1],\n",
    "        'priority': ['yes', 'yes', 'no', 'yes', 'no', 'no', 'no', 'yes', 'no', 'no']}\n",
    "\n",
    "df = pd.DataFrame(data)\n",
    "\n",
    "missing_age = df[df['age'].isna()]\n",
    "print(missing_age)"
   ]
  },
  {
   "cell_type": "code",
   "execution_count": 32,
   "id": "ceaf69cf-4850-4a31-9420-254ca9eccc63",
   "metadata": {},
   "outputs": [
    {
     "name": "stdout",
     "output_type": "stream",
     "text": [
      "     animal  age  visits priority\n",
      "0       cat  2.5     1.0      yes\n",
      "1       cat  3.0     3.0      yes\n",
      "2     snake  0.5     2.0       no\n",
      "3  Labrador  NaN     3.0      yes\n",
      "4  Labrador  5.0     2.0       no\n",
      "5       cat  2.0     3.0       no\n",
      "6     snake  4.5     1.0       no\n",
      "7       cat  NaN     1.0      yes\n",
      "8  Labrador  7.0     2.0       no\n",
      "9  Labrador  3.0     1.0       no\n",
      "d       NaN  2.7     NaN      NaN\n",
      "Mean Age: animal\n",
      "Labrador    5.0\n",
      "cat         2.5\n",
      "snake       2.5\n",
      "Name: age, dtype: float64\n"
     ]
    }
   ],
   "source": [
    "#7 Modify df, update 'dog' to 'Labrador', change age of row 'd', and calculate mean_age.\n",
    "df['animal'] = df['animal'].replace('dog', 'Labrador')\n",
    "df.at['d', 'age'] = 2.7\n",
    "mean_age = df.groupby('animal')['age'].mean()\n",
    "print(df)\n",
    "print(\"Mean Age:\", mean_age)"
   ]
  },
  {
   "cell_type": "code",
   "execution_count": 38,
   "id": "34d854a6-2693-49cc-bd2a-da6b0225fc88",
   "metadata": {},
   "outputs": [
    {
     "name": "stdout",
     "output_type": "stream",
     "text": [
      "Positions where columns match: [0, 2, 4]\n"
     ]
    }
   ],
   "source": [
    "#8. Get the positions where values of two columns match in a DataFrame.\n",
    "\n",
    "df_example = pd.DataFrame({\n",
    "    'A': [1, 2, 3, 4, 5],\n",
    "    'B': [1, 1, 3, 2, 5]\n",
    "})\n",
    "\n",
    "matches = df_example[df_example['A'] == df_example['B']].index\n",
    "\n",
    "print(\"Positions where columns match:\", matches.tolist())"
   ]
  },
  {
   "cell_type": "code",
   "execution_count": 42,
   "id": "80baac0a-9b2c-416d-b1ae-a867153072e2",
   "metadata": {},
   "outputs": [
    {
     "name": "stdout",
     "output_type": "stream",
     "text": [
      "Positions of multiples of 4: [1, 3, 4, 6, 7, 9]\n"
     ]
    }
   ],
   "source": [
    " # Q9.Find the positions of numbers that are multiples of 4 from a series.\n",
    "series = pd.Series([1, 4, 6, 8, 12, 15, 16, 20, 23, 24])\n",
    "positions = series[series % 4 == 0].index\n",
    "print(\"Positions of multiples of 4:\", positions.tolist())"
   ]
  },
  {
   "cell_type": "code",
   "execution_count": 44,
   "id": "23dfa99b-8872-473c-8007-d853f306accd",
   "metadata": {},
   "outputs": [
    {
     "name": "stdout",
     "output_type": "stream",
     "text": [
      "Vertical Stack:\n",
      " 0    11\n",
      "1    27\n",
      "2    34\n",
      "0    42\n",
      "1    95\n",
      "2    76\n",
      "dtype: int64\n",
      "Horizontal Stack:\n",
      "     0   1\n",
      "0  11  42\n",
      "1  27  95\n",
      "2  34  76\n"
     ]
    }
   ],
   "source": [
    "# Q10. Stack two given series vertically and horizontally.\n",
    "series1 = pd.Series([11, 27, 34])\n",
    "series2 = pd.Series([42, 95, 76])\n",
    "\n",
    "\n",
    "vertical = pd.concat([series1, series2], axis=0)\n",
    "horizontal = pd.concat([series1, series2], axis=1)\n",
    "\n",
    "print(\"Vertical Stack:\\n\", vertical)\n",
    "print(\"Horizontal Stack:\\n\", horizontal)"
   ]
  }
 ],
 "metadata": {
  "kernelspec": {
   "display_name": "Python 3 (ipykernel)",
   "language": "python",
   "name": "python3"
  },
  "language_info": {
   "codemirror_mode": {
    "name": "ipython",
    "version": 3
   },
   "file_extension": ".py",
   "mimetype": "text/x-python",
   "name": "python",
   "nbconvert_exporter": "python",
   "pygments_lexer": "ipython3",
   "version": "3.11.5"
  }
 },
 "nbformat": 4,
 "nbformat_minor": 5
}
