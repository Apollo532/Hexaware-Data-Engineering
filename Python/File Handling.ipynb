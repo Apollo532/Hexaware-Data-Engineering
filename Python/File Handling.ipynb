{
 "cells": [
  {
   "cell_type": "code",
   "execution_count": 58,
   "id": "3e93e642-c39b-45d2-b7ce-aab7cf2b4d60",
   "metadata": {},
   "outputs": [
    {
     "name": "stdout",
     "output_type": "stream",
     "text": [
      "FC Barcelona, commonly known as BarÃ§a, is one of the most prestigious and successful football clubs in the world. Founded on November 29, 1899, by a group of Catalan, Spanish, German, and Swiss football enthusiasts led by Joan Gamper, the club has a rich history and a global following.\n",
      "\n",
      "Key Highlights:\n",
      "\n",
      "Achievements: Barcelona has won numerous domestic and international titles, including multiple La Liga titles and Copa del Rey trophies. They have also claimed the UEFA Champions League title several times, showcasing their dominance in European football.\n",
      "\n",
      "Stadium: The team's home ground is Camp Nou, one of the largest stadiums in Europe with a seating capacity of over 99,000. It is known for its electrifying atmosphere and is a symbol of the club's grandeur.\n",
      "\n",
      "Iconic Players: The club has been home to many legendary players, including Lionel Messi, who is considered one of the greatest footballers of all time. Other notable figures include Johan Cruyff, Xavi Hernandez, and AndrÃ©s Iniesta.\n",
      "\n",
      "Playing Style: Barcelona is renowned for its attacking style of play, often referred to as \"tiki-taka,\" which involves short, quick passes and maintaining possession. This style has been popularized and refined by various coaches, including Johan Cruyff and Pep Guardiola.\n",
      "\n",
      "Rivalries: The club has a fierce rivalry with Real Madrid, known as El ClÃ¡sico. This fixture is one of the most anticipated and high-profile matches in the football calendar, representing not just a football contest but also a clash of cultures and histories.\n",
      "\n",
      "Social Impact: Barcelona is also known for its commitment to social causes, including its charitable foundation that supports various initiatives in health, education, and social integration.\n",
      "\n",
      "The clubâ€™s motto, \"MÃ©s que un club\" (More than a club), reflects its role as a symbol of Catalan identity and its influence beyond just football.\n"
     ]
    }
   ],
   "source": [
    "import os\n",
    "\n",
    "file = open('C:\\\\Users\\\\Admin\\\\Documents\\\\Hexaware Submissions\\\\Testfile.txt', 'r')\n",
    "content = file.read()\n",
    "print(content)\n",
    "file.close()"
   ]
  },
  {
   "cell_type": "code",
   "execution_count": 59,
   "id": "e87f3220-ae4b-4648-bd73-2ee53571f732",
   "metadata": {},
   "outputs": [
    {
     "name": "stdout",
     "output_type": "stream",
     "text": [
      "FC Barcelona, commonly known as BarÃ§a, is one of the most prestigious and successful football clubs in the world. Founded on November 29, 1899, by a group of Catalan, Spanish, German, and Swiss football enthusiasts led by Joan Gamper, the club has a rich history and a global following.\n",
      "\n",
      "['FC Barcelona, commonly known as BarÃ§a, is one of the most prestigious and successful football clubs in the world. Founded on November 29, 1899, by a group of Catalan, Spanish, German, and Swiss football enthusiasts led by Joan Gamper, the club has a rich history and a global following.\\n', '\\n', 'Key Highlights:\\n', '\\n', 'Achievements: Barcelona has won numerous domestic and international titles, including multiple La Liga titles and Copa del Rey trophies. They have also claimed the UEFA Champions League title several times, showcasing their dominance in European football.\\n', '\\n', \"Stadium: The team's home ground is Camp Nou, one of the largest stadiums in Europe with a seating capacity of over 99,000. It is known for its electrifying atmosphere and is a symbol of the club's grandeur.\\n\", '\\n', 'Iconic Players: The club has been home to many legendary players, including Lionel Messi, who is considered one of the greatest footballers of all time. Other notable figures include Johan Cruyff, Xavi Hernandez, and AndrÃ©s Iniesta.\\n', '\\n', 'Playing Style: Barcelona is renowned for its attacking style of play, often referred to as \"tiki-taka,\" which involves short, quick passes and maintaining possession. This style has been popularized and refined by various coaches, including Johan Cruyff and Pep Guardiola.\\n', '\\n', 'Rivalries: The club has a fierce rivalry with Real Madrid, known as El ClÃ¡sico. This fixture is one of the most anticipated and high-profile matches in the football calendar, representing not just a football contest but also a clash of cultures and histories.\\n', '\\n', 'Social Impact: Barcelona is also known for its commitment to social causes, including its charitable foundation that supports various initiatives in health, education, and social integration.\\n', '\\n', 'The clubâ€™s motto, \"MÃ©s que un club\" (More than a club), reflects its role as a symbol of Catalan identity and its influence beyond just football.']\n"
     ]
    }
   ],
   "source": [
    "file_path = 'C:\\\\Users\\\\Admin\\\\Documents\\\\Hexaware Submissions\\\\Testfile.txt'\n",
    "\n",
    "with open(file_path, 'r') as file:\n",
    "    line = file.readline()\n",
    "    print(line)  # First line of the file\n",
    "\n",
    "\n",
    "with open(file_path, 'r') as file:\n",
    "    lines = file.readlines()\n",
    "    print(lines)   #List containing all lines"
   ]
  },
  {
   "cell_type": "code",
   "execution_count": 87,
   "id": "a1876e75-75d2-4f4e-89c1-db1d700a6a99",
   "metadata": {},
   "outputs": [],
   "source": [
    "file = open(file_path, 'a')\n",
    "file.write('\\nNew players include Marc Casado, Pau Prim, Vitor Roque, Lamine Yamal')\n",
    "file.close()"
   ]
  },
  {
   "cell_type": "code",
   "execution_count": 60,
   "id": "e2ecce20-e75c-455c-ba1c-e2c4a0cb76e9",
   "metadata": {},
   "outputs": [],
   "source": [
    "#Writing one line to file\n",
    "writefile = 'C:\\\\Users\\\\Admin\\\\Documents\\\\Hexaware Submissions\\\\Writefile.txt'\n",
    "with open(writefile, 'w') as filew:\n",
    "    filew.write('\\n Hansi Flick is now their new coach for season 2024-25.\\n')"
   ]
  },
  {
   "cell_type": "code",
   "execution_count": 61,
   "id": "3cd56093-8d31-4b9c-96bf-dc4e342b7d53",
   "metadata": {},
   "outputs": [],
   "source": [
    "new_players = ['Marc Bernal\\n', 'Dani Olmo\\n', 'Pau Victor\\n']\n",
    "with open(writefile, 'w') as filew:\n",
    "    filew.writelines(new_players)"
   ]
  },
  {
   "cell_type": "code",
   "execution_count": 62,
   "id": "3e61bed8-682c-4b1d-a74c-32deafdbf41b",
   "metadata": {},
   "outputs": [
    {
     "name": "stdout",
     "output_type": "stream",
     "text": [
      "['Marc Bernal\\n', 'Dani Olmo\\n', 'Pau Victor\\n']\n"
     ]
    }
   ],
   "source": [
    "with open(writefile, 'r') as file:\n",
    "    lines = file.readlines()\n",
    "    print(lines)   #List containing all lines"
   ]
  }
 ],
 "metadata": {
  "kernelspec": {
   "display_name": "Python 3 (ipykernel)",
   "language": "python",
   "name": "python3"
  },
  "language_info": {
   "codemirror_mode": {
    "name": "ipython",
    "version": 3
   },
   "file_extension": ".py",
   "mimetype": "text/x-python",
   "name": "python",
   "nbconvert_exporter": "python",
   "pygments_lexer": "ipython3",
   "version": "3.11.5"
  }
 },
 "nbformat": 4,
 "nbformat_minor": 5
}
