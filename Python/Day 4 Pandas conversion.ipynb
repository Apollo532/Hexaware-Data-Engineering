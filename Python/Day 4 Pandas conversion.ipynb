{
 "cells": [
  {
   "cell_type": "code",
   "execution_count": 78,
   "id": "310819be-69fd-400b-a61a-014593a30baf",
   "metadata": {},
   "outputs": [],
   "source": [
    "import pyodbc\n",
    "import pandas as pd\n",
    "import warnings\n",
    "ignore_warnings = True"
   ]
  },
  {
   "cell_type": "code",
   "execution_count": 79,
   "id": "f7c2e224-3fcc-4665-acaf-c7da9a7fcb49",
   "metadata": {},
   "outputs": [],
   "source": [
    "server = 'DESKTOP-59E71Q2\\\\SQLEXPRESS'\n",
    "database = 'AdventureWorks2022'\n",
    "username = 'sa'\n",
    "password = 'Amaan123'\n",
    " \n",
    "# Connection string\n",
    "connection_string = f'DRIVER={{SQL Server}};SERVER={server};DATABASE={database};UID={username};PWD={password}'"
   ]
  },
  {
   "cell_type": "code",
   "execution_count": 80,
   "id": "4c58ef13-9539-4ef0-a9a8-1e76d875a196",
   "metadata": {},
   "outputs": [
    {
     "name": "stdout",
     "output_type": "stream",
     "text": [
      "Connected Successfully\n"
     ]
    }
   ],
   "source": [
    "try:\n",
    "    conn = pyodbc.connect(connection_string)\n",
    "    print(\"Connected Successfully\")\n",
    "except Exception as e:\n",
    "    print(f'Error: {e}')"
   ]
  },
  {
   "cell_type": "code",
   "execution_count": 81,
   "id": "63f653fb-f282-4c1f-8155-a568e26dd2f8",
   "metadata": {},
   "outputs": [
    {
     "name": "stderr",
     "output_type": "stream",
     "text": [
      "C:\\Users\\Admin\\AppData\\Local\\Temp\\ipykernel_9608\\3678884049.py:3: UserWarning: pandas only supports SQLAlchemy connectable (engine/connection) or database string URI or sqlite3 DBAPI2 connection. Other DBAPI2 objects are not tested. Please consider using SQLAlchemy.\n",
      "  df = pd.read_sql(query,conn)\n"
     ]
    },
    {
     "data": {
      "text/html": [
       "<div>\n",
       "<style scoped>\n",
       "    .dataframe tbody tr th:only-of-type {\n",
       "        vertical-align: middle;\n",
       "    }\n",
       "\n",
       "    .dataframe tbody tr th {\n",
       "        vertical-align: top;\n",
       "    }\n",
       "\n",
       "    .dataframe thead th {\n",
       "        text-align: right;\n",
       "    }\n",
       "</style>\n",
       "<table border=\"1\" class=\"dataframe\">\n",
       "  <thead>\n",
       "    <tr style=\"text-align: right;\">\n",
       "      <th></th>\n",
       "      <th>DepartmentID</th>\n",
       "      <th>Name</th>\n",
       "      <th>GroupName</th>\n",
       "      <th>ModifiedDate</th>\n",
       "    </tr>\n",
       "  </thead>\n",
       "  <tbody>\n",
       "    <tr>\n",
       "      <th>0</th>\n",
       "      <td>1</td>\n",
       "      <td>Engineering</td>\n",
       "      <td>Research and Development</td>\n",
       "      <td>2008-04-30</td>\n",
       "    </tr>\n",
       "    <tr>\n",
       "      <th>1</th>\n",
       "      <td>2</td>\n",
       "      <td>Tool Design</td>\n",
       "      <td>Research and Development</td>\n",
       "      <td>2008-04-30</td>\n",
       "    </tr>\n",
       "    <tr>\n",
       "      <th>2</th>\n",
       "      <td>3</td>\n",
       "      <td>Sales</td>\n",
       "      <td>Sales and Marketing</td>\n",
       "      <td>2008-04-30</td>\n",
       "    </tr>\n",
       "    <tr>\n",
       "      <th>3</th>\n",
       "      <td>4</td>\n",
       "      <td>Marketing</td>\n",
       "      <td>Sales and Marketing</td>\n",
       "      <td>2008-04-30</td>\n",
       "    </tr>\n",
       "    <tr>\n",
       "      <th>4</th>\n",
       "      <td>5</td>\n",
       "      <td>Purchasing</td>\n",
       "      <td>Inventory Management</td>\n",
       "      <td>2008-04-30</td>\n",
       "    </tr>\n",
       "  </tbody>\n",
       "</table>\n",
       "</div>"
      ],
      "text/plain": [
       "   DepartmentID         Name                 GroupName ModifiedDate\n",
       "0             1  Engineering  Research and Development   2008-04-30\n",
       "1             2  Tool Design  Research and Development   2008-04-30\n",
       "2             3        Sales       Sales and Marketing   2008-04-30\n",
       "3             4    Marketing       Sales and Marketing   2008-04-30\n",
       "4             5   Purchasing      Inventory Management   2008-04-30"
      ]
     },
     "execution_count": 81,
     "metadata": {},
     "output_type": "execute_result"
    }
   ],
   "source": [
    "#Top 5 from Department table\n",
    "query = \"SELECT * FROM [HumanResources].[Department]\"\n",
    "df = pd.read_sql(query,conn)\n",
    "df.head(5)"
   ]
  },
  {
   "cell_type": "code",
   "execution_count": 82,
   "id": "e6880982-690f-4c8e-8e2d-1539a65daf5a",
   "metadata": {},
   "outputs": [
    {
     "name": "stderr",
     "output_type": "stream",
     "text": [
      "C:\\Users\\Admin\\AppData\\Local\\Temp\\ipykernel_9608\\3233153763.py:3: UserWarning: pandas only supports SQLAlchemy connectable (engine/connection) or database string URI or sqlite3 DBAPI2 connection. Other DBAPI2 objects are not tested. Please consider using SQLAlchemy.\n",
      "  df = pd.read_sql(query, conn)\n"
     ]
    },
    {
     "data": {
      "text/plain": [
       "290"
      ]
     },
     "execution_count": 82,
     "metadata": {},
     "output_type": "execute_result"
    }
   ],
   "source": [
    "#Count employees in the table\n",
    "query = \"SELECT * FROM [HumanResources].[Employee]\"\n",
    "df = pd.read_sql(query, conn)\n",
    "EmployeeCount = df['BusinessEntityID'].count()\n",
    "EmployeeCount"
   ]
  },
  {
   "cell_type": "code",
   "execution_count": 83,
   "id": "c2b1a808-f90e-4bdf-a201-6407b1bfe0d6",
   "metadata": {},
   "outputs": [
    {
     "name": "stdout",
     "output_type": "stream",
     "text": [
      "Unique Departments:  [1, 2, 3, 4, 5, 6, 7, 8, 9, 10, 11, 12, 13, 14, 15, 16]\n"
     ]
    },
    {
     "name": "stderr",
     "output_type": "stream",
     "text": [
      "C:\\Users\\Admin\\AppData\\Local\\Temp\\ipykernel_9608\\716966532.py:3: UserWarning: pandas only supports SQLAlchemy connectable (engine/connection) or database string URI or sqlite3 DBAPI2 connection. Other DBAPI2 objects are not tested. Please consider using SQLAlchemy.\n",
      "  df = pd.read_sql(query,conn)\n"
     ]
    }
   ],
   "source": [
    "#List unique departments\n",
    "query = \"SELECT * FROM [HumanResources].[EmployeeDepartmentHistory]\"\n",
    "df = pd.read_sql(query,conn)\n",
    "uniquedepts = df['DepartmentID'].unique()\n",
    "print(\"Unique Departments: \", sorted(list(uniquedepts)))"
   ]
  },
  {
   "cell_type": "code",
   "execution_count": 84,
   "id": "3059548e-1264-4dc0-9153-fd4909416aba",
   "metadata": {},
   "outputs": [
    {
     "name": "stdout",
     "output_type": "stream",
     "text": [
      "Max Rate:  125.5\n"
     ]
    },
    {
     "name": "stderr",
     "output_type": "stream",
     "text": [
      "C:\\Users\\Admin\\AppData\\Local\\Temp\\ipykernel_9608\\1479312354.py:3: UserWarning: pandas only supports SQLAlchemy connectable (engine/connection) or database string URI or sqlite3 DBAPI2 connection. Other DBAPI2 objects are not tested. Please consider using SQLAlchemy.\n",
      "  df = pd.read_sql(query, conn)\n"
     ]
    }
   ],
   "source": [
    "#Maximum Pay rate\n",
    "query = \"SELECT * FROM [HumanResources].[EmployeePayHistory]\"\n",
    "df = pd.read_sql(query, conn)\n",
    "maxrate = df['Rate'].max()\n",
    "print('Max Rate: ', maxrate)"
   ]
  },
  {
   "cell_type": "code",
   "execution_count": 85,
   "id": "1868b5b5-7374-4a30-bd53-f35f05b09127",
   "metadata": {},
   "outputs": [
    {
     "name": "stderr",
     "output_type": "stream",
     "text": [
      "C:\\Users\\Admin\\AppData\\Local\\Temp\\ipykernel_9608\\4094015756.py:3: UserWarning: pandas only supports SQLAlchemy connectable (engine/connection) or database string URI or sqlite3 DBAPI2 connection. Other DBAPI2 objects are not tested. Please consider using SQLAlchemy.\n",
      "  df = pd.read_sql(query,conn)\n"
     ]
    },
    {
     "data": {
      "text/html": [
       "<div>\n",
       "<style scoped>\n",
       "    .dataframe tbody tr th:only-of-type {\n",
       "        vertical-align: middle;\n",
       "    }\n",
       "\n",
       "    .dataframe tbody tr th {\n",
       "        vertical-align: top;\n",
       "    }\n",
       "\n",
       "    .dataframe thead th {\n",
       "        text-align: right;\n",
       "    }\n",
       "</style>\n",
       "<table border=\"1\" class=\"dataframe\">\n",
       "  <thead>\n",
       "    <tr style=\"text-align: right;\">\n",
       "      <th></th>\n",
       "      <th>BusinessEntityID</th>\n",
       "      <th>NationalIDNumber</th>\n",
       "      <th>LoginID</th>\n",
       "      <th>OrganizationNode</th>\n",
       "      <th>OrganizationLevel</th>\n",
       "      <th>JobTitle</th>\n",
       "      <th>BirthDate</th>\n",
       "      <th>MaritalStatus</th>\n",
       "      <th>Gender</th>\n",
       "      <th>HireDate</th>\n",
       "      <th>SalariedFlag</th>\n",
       "      <th>VacationHours</th>\n",
       "      <th>SickLeaveHours</th>\n",
       "      <th>CurrentFlag</th>\n",
       "      <th>rowguid</th>\n",
       "      <th>ModifiedDate</th>\n",
       "    </tr>\n",
       "  </thead>\n",
       "  <tbody>\n",
       "    <tr>\n",
       "      <th>2</th>\n",
       "      <td>3</td>\n",
       "      <td>509647174</td>\n",
       "      <td>adventure-works\\roberto0</td>\n",
       "      <td>b'Z\\xc0'</td>\n",
       "      <td>2.0</td>\n",
       "      <td>Engineering Manager</td>\n",
       "      <td>1974-11-12</td>\n",
       "      <td>M</td>\n",
       "      <td>M</td>\n",
       "      <td>2007-11-11</td>\n",
       "      <td>True</td>\n",
       "      <td>2</td>\n",
       "      <td>21</td>\n",
       "      <td>True</td>\n",
       "      <td>9BBBFB2C-EFBB-4217-9AB7-F97689328841</td>\n",
       "      <td>2014-06-30</td>\n",
       "    </tr>\n",
       "    <tr>\n",
       "      <th>4</th>\n",
       "      <td>5</td>\n",
       "      <td>695256908</td>\n",
       "      <td>adventure-works\\gail0</td>\n",
       "      <td>b'Z\\xda'</td>\n",
       "      <td>3.0</td>\n",
       "      <td>Design Engineer</td>\n",
       "      <td>1952-09-27</td>\n",
       "      <td>M</td>\n",
       "      <td>F</td>\n",
       "      <td>2008-01-06</td>\n",
       "      <td>True</td>\n",
       "      <td>5</td>\n",
       "      <td>22</td>\n",
       "      <td>True</td>\n",
       "      <td>EC84AE09-F9B8-4A15-B4A9-6CCBAB919B08</td>\n",
       "      <td>2014-06-30</td>\n",
       "    </tr>\n",
       "    <tr>\n",
       "      <th>5</th>\n",
       "      <td>6</td>\n",
       "      <td>998320692</td>\n",
       "      <td>adventure-works\\jossef0</td>\n",
       "      <td>b'Z\\xde'</td>\n",
       "      <td>3.0</td>\n",
       "      <td>Design Engineer</td>\n",
       "      <td>1959-03-11</td>\n",
       "      <td>M</td>\n",
       "      <td>M</td>\n",
       "      <td>2008-01-24</td>\n",
       "      <td>True</td>\n",
       "      <td>6</td>\n",
       "      <td>23</td>\n",
       "      <td>True</td>\n",
       "      <td>E39056F1-9CD5-478D-8945-14ACA7FBDCDD</td>\n",
       "      <td>2014-06-30</td>\n",
       "    </tr>\n",
       "    <tr>\n",
       "      <th>6</th>\n",
       "      <td>7</td>\n",
       "      <td>134969118</td>\n",
       "      <td>adventure-works\\dylan0</td>\n",
       "      <td>b'Z\\xe1'</td>\n",
       "      <td>3.0</td>\n",
       "      <td>Research and Development Manager</td>\n",
       "      <td>1987-02-24</td>\n",
       "      <td>M</td>\n",
       "      <td>M</td>\n",
       "      <td>2009-02-08</td>\n",
       "      <td>True</td>\n",
       "      <td>61</td>\n",
       "      <td>50</td>\n",
       "      <td>True</td>\n",
       "      <td>4F46DECA-EF01-41FD-9829-0ADAB368E431</td>\n",
       "      <td>2014-06-30</td>\n",
       "    </tr>\n",
       "    <tr>\n",
       "      <th>8</th>\n",
       "      <td>9</td>\n",
       "      <td>658797903</td>\n",
       "      <td>adventure-works\\gigi0</td>\n",
       "      <td>b'Z\\xe1h'</td>\n",
       "      <td>4.0</td>\n",
       "      <td>Research and Development Engineer</td>\n",
       "      <td>1979-01-21</td>\n",
       "      <td>M</td>\n",
       "      <td>F</td>\n",
       "      <td>2009-01-16</td>\n",
       "      <td>True</td>\n",
       "      <td>63</td>\n",
       "      <td>51</td>\n",
       "      <td>True</td>\n",
       "      <td>50B6CDC6-7570-47EF-9570-48A64B5F2ECF</td>\n",
       "      <td>2014-06-30</td>\n",
       "    </tr>\n",
       "  </tbody>\n",
       "</table>\n",
       "</div>"
      ],
      "text/plain": [
       "   BusinessEntityID NationalIDNumber                   LoginID  \\\n",
       "2                 3        509647174  adventure-works\\roberto0   \n",
       "4                 5        695256908     adventure-works\\gail0   \n",
       "5                 6        998320692   adventure-works\\jossef0   \n",
       "6                 7        134969118    adventure-works\\dylan0   \n",
       "8                 9        658797903     adventure-works\\gigi0   \n",
       "\n",
       "  OrganizationNode  OrganizationLevel                           JobTitle  \\\n",
       "2         b'Z\\xc0'                2.0                Engineering Manager   \n",
       "4         b'Z\\xda'                3.0                    Design Engineer   \n",
       "5         b'Z\\xde'                3.0                    Design Engineer   \n",
       "6         b'Z\\xe1'                3.0   Research and Development Manager   \n",
       "8        b'Z\\xe1h'                4.0  Research and Development Engineer   \n",
       "\n",
       "    BirthDate MaritalStatus Gender    HireDate  SalariedFlag  VacationHours  \\\n",
       "2  1974-11-12             M      M  2007-11-11          True              2   \n",
       "4  1952-09-27             M      F  2008-01-06          True              5   \n",
       "5  1959-03-11             M      M  2008-01-24          True              6   \n",
       "6  1987-02-24             M      M  2009-02-08          True             61   \n",
       "8  1979-01-21             M      F  2009-01-16          True             63   \n",
       "\n",
       "   SickLeaveHours  CurrentFlag                               rowguid  \\\n",
       "2              21         True  9BBBFB2C-EFBB-4217-9AB7-F97689328841   \n",
       "4              22         True  EC84AE09-F9B8-4A15-B4A9-6CCBAB919B08   \n",
       "5              23         True  E39056F1-9CD5-478D-8945-14ACA7FBDCDD   \n",
       "6              50         True  4F46DECA-EF01-41FD-9829-0ADAB368E431   \n",
       "8              51         True  50B6CDC6-7570-47EF-9570-48A64B5F2ECF   \n",
       "\n",
       "  ModifiedDate  \n",
       "2   2014-06-30  \n",
       "4   2014-06-30  \n",
       "5   2014-06-30  \n",
       "6   2014-06-30  \n",
       "8   2014-06-30  "
      ]
     },
     "execution_count": 85,
     "metadata": {},
     "output_type": "execute_result"
    }
   ],
   "source": [
    "#Married Employees\n",
    "query = \"SELECT * FROM [HumanResources].[Employee]\"\n",
    "df = pd.read_sql(query,conn)\n",
    "married = df[df['MaritalStatus'] == 'M']\n",
    "married.head()"
   ]
  },
  {
   "cell_type": "code",
   "execution_count": 86,
   "id": "e6c1b86a-52c9-4e92-a6b1-0b911244f1d0",
   "metadata": {},
   "outputs": [
    {
     "name": "stderr",
     "output_type": "stream",
     "text": [
      "C:\\Users\\Admin\\AppData\\Local\\Temp\\ipykernel_9608\\1739118968.py:3: UserWarning: pandas only supports SQLAlchemy connectable (engine/connection) or database string URI or sqlite3 DBAPI2 connection. Other DBAPI2 objects are not tested. Please consider using SQLAlchemy.\n",
      "  df = pd.read_sql(query, conn)\n"
     ]
    },
    {
     "data": {
      "text/plain": [
       "PayFrequency\n",
       "1    11.654722\n",
       "2    25.837736\n",
       "Name: Rate, dtype: float64"
      ]
     },
     "execution_count": 86,
     "metadata": {},
     "output_type": "execute_result"
    }
   ],
   "source": [
    "#Average Pay Rate Grouped by frequency\n",
    "query = \"SELECT * FROM [HumanResources].[EmployeePayHistory]\"\n",
    "df = pd.read_sql(query, conn)\n",
    "grp = df.groupby('PayFrequency')['Rate'].mean()\n",
    "grp"
   ]
  },
  {
   "cell_type": "code",
   "execution_count": 87,
   "id": "ae670a80-eef0-4282-9612-0d7b432803d9",
   "metadata": {},
   "outputs": [
    {
     "name": "stderr",
     "output_type": "stream",
     "text": [
      "C:\\Users\\Admin\\AppData\\Local\\Temp\\ipykernel_9608\\1535627724.py:3: UserWarning: pandas only supports SQLAlchemy connectable (engine/connection) or database string URI or sqlite3 DBAPI2 connection. Other DBAPI2 objects are not tested. Please consider using SQLAlchemy.\n",
      "  df = pd.read_sql(query,conn)\n"
     ]
    },
    {
     "data": {
      "text/html": [
       "<div>\n",
       "<style scoped>\n",
       "    .dataframe tbody tr th:only-of-type {\n",
       "        vertical-align: middle;\n",
       "    }\n",
       "\n",
       "    .dataframe tbody tr th {\n",
       "        vertical-align: top;\n",
       "    }\n",
       "\n",
       "    .dataframe thead th {\n",
       "        text-align: right;\n",
       "    }\n",
       "</style>\n",
       "<table border=\"1\" class=\"dataframe\">\n",
       "  <thead>\n",
       "    <tr style=\"text-align: right;\">\n",
       "      <th></th>\n",
       "      <th>DepartmentID</th>\n",
       "      <th>EmployeeCount</th>\n",
       "    </tr>\n",
       "  </thead>\n",
       "  <tbody>\n",
       "    <tr>\n",
       "      <th>6</th>\n",
       "      <td>7</td>\n",
       "      <td>180</td>\n",
       "    </tr>\n",
       "    <tr>\n",
       "      <th>2</th>\n",
       "      <td>3</td>\n",
       "      <td>18</td>\n",
       "    </tr>\n",
       "    <tr>\n",
       "      <th>4</th>\n",
       "      <td>5</td>\n",
       "      <td>13</td>\n",
       "    </tr>\n",
       "    <tr>\n",
       "      <th>9</th>\n",
       "      <td>10</td>\n",
       "      <td>11</td>\n",
       "    </tr>\n",
       "    <tr>\n",
       "      <th>3</th>\n",
       "      <td>4</td>\n",
       "      <td>10</td>\n",
       "    </tr>\n",
       "  </tbody>\n",
       "</table>\n",
       "</div>"
      ],
      "text/plain": [
       "   DepartmentID  EmployeeCount\n",
       "6             7            180\n",
       "2             3             18\n",
       "4             5             13\n",
       "9            10             11\n",
       "3             4             10"
      ]
     },
     "execution_count": 87,
     "metadata": {},
     "output_type": "execute_result"
    }
   ],
   "source": [
    "#Top 3 Departments by Count of Employees\n",
    "query = \"SELECT * FROM [HumanResources].[EmployeeDepartmentHistory]\"\n",
    "df = pd.read_sql(query,conn)\n",
    "ecount_depts = df.groupby('DepartmentID')['BusinessEntityID'].count().reset_index(name='EmployeeCount')\n",
    "top_depts = ecount_depts.sort_values('EmployeeCount', ascending = False)\n",
    "top_depts.head()"
   ]
  },
  {
   "cell_type": "code",
   "execution_count": 88,
   "id": "7eb43acb-cbac-4185-8cb9-c9191c724dfe",
   "metadata": {},
   "outputs": [
    {
     "name": "stderr",
     "output_type": "stream",
     "text": [
      "C:\\Users\\Admin\\AppData\\Local\\Temp\\ipykernel_9608\\3774263485.py:3: UserWarning: pandas only supports SQLAlchemy connectable (engine/connection) or database string URI or sqlite3 DBAPI2 connection. Other DBAPI2 objects are not tested. Please consider using SQLAlchemy.\n",
      "  df = pd.read_sql(query, conn)\n"
     ]
    },
    {
     "data": {
      "text/plain": [
       "0"
      ]
     },
     "execution_count": 88,
     "metadata": {},
     "output_type": "execute_result"
    }
   ],
   "source": [
    "#Changes in 1 year\n",
    "query = \"SELECT * FROM [HumanResources].[EmployeeDepartmentHistory]\"\n",
    "df = pd.read_sql(query, conn)\n",
    "\n",
    "c_yr = pd.Timestamp.now().year\n",
    "p_yr = c_yr - 1\n",
    "\n",
    "df_new = df[pd.to_datetime(df['StartDate']).dt.year == p_yr]\n",
    "count = len(df_new)\n",
    "df_new.head()\n",
    "count"
   ]
  },
  {
   "cell_type": "code",
   "execution_count": 89,
   "id": "c239db55-c3eb-488f-8c20-545e0112aee6",
   "metadata": {},
   "outputs": [
    {
     "name": "stderr",
     "output_type": "stream",
     "text": [
      "C:\\Users\\Admin\\AppData\\Local\\Temp\\ipykernel_9608\\1215176980.py:6: UserWarning: pandas only supports SQLAlchemy connectable (engine/connection) or database string URI or sqlite3 DBAPI2 connection. Other DBAPI2 objects are not tested. Please consider using SQLAlchemy.\n",
      "  dept_history = pd.read_sql(query1,conn)\n",
      "C:\\Users\\Admin\\AppData\\Local\\Temp\\ipykernel_9608\\1215176980.py:7: UserWarning: pandas only supports SQLAlchemy connectable (engine/connection) or database string URI or sqlite3 DBAPI2 connection. Other DBAPI2 objects are not tested. Please consider using SQLAlchemy.\n",
      "  dept = pd.read_sql(query2, conn)\n"
     ]
    },
    {
     "name": "stdout",
     "output_type": "stream",
     "text": [
      "Empty DataFrame\n",
      "Columns: [BusinessEntityID, DepartmentID, ShiftID, StartDate, EndDate, ModifiedDate]\n",
      "Index: []\n"
     ]
    }
   ],
   "source": [
    "#List all employees who have been in the HumanResources department for more than 2 years.\n",
    "\n",
    "query1 = \"SELECT * FROM [HumanResources].[EmployeeDepartmentHistory]\"\n",
    "query2 = \"SELECT * FROM [HumanResources].[Department]\"\n",
    "\n",
    "dept_history = pd.read_sql(query1,conn)\n",
    "dept = pd.read_sql(query2, conn)\n",
    "\n",
    "\n",
    "dept_hr_id = dept[dept['Name'] == 'Human Resources']['DepartmentID'].values[0]\n",
    "dept_history['StartDate'] = pd.to_datetime(dept_history['StartDate'])\n",
    "dept_history['EndDate'] = pd.to_datetime(dept_history['EndDate'])\n",
    "mt_emps = dept_history[(dept_history['DepartmentID'] == dept_hr_id) & (dept_history['EndDate'] - dept_history['StartDate']).dt.days > 730]\n",
    "print(mt_emps)"
   ]
  },
  {
   "cell_type": "code",
   "execution_count": 90,
   "id": "4048a6e9-3866-4f29-a9ee-0d7f3908122a",
   "metadata": {},
   "outputs": [
    {
     "name": "stderr",
     "output_type": "stream",
     "text": [
      "C:\\Users\\Admin\\AppData\\Local\\Temp\\ipykernel_9608\\4051670539.py:1: UserWarning: pandas only supports SQLAlchemy connectable (engine/connection) or database string URI or sqlite3 DBAPI2 connection. Other DBAPI2 objects are not tested. Please consider using SQLAlchemy.\n",
      "  department = pd.read_sql(\"SELECT * FROM [HumanResources].[Department]\", conn)\n",
      "C:\\Users\\Admin\\AppData\\Local\\Temp\\ipykernel_9608\\4051670539.py:2: UserWarning: pandas only supports SQLAlchemy connectable (engine/connection) or database string URI or sqlite3 DBAPI2 connection. Other DBAPI2 objects are not tested. Please consider using SQLAlchemy.\n",
      "  employee = pd.read_sql(\"SELECT * FROM [HumanResources].[Employee]\", conn)\n",
      "C:\\Users\\Admin\\AppData\\Local\\Temp\\ipykernel_9608\\4051670539.py:3: UserWarning: pandas only supports SQLAlchemy connectable (engine/connection) or database string URI or sqlite3 DBAPI2 connection. Other DBAPI2 objects are not tested. Please consider using SQLAlchemy.\n",
      "  dept_history = pd.read_sql(\"SELECT * FROM [HumanResources].[EmployeeDepartmentHistory]\", conn)\n",
      "C:\\Users\\Admin\\AppData\\Local\\Temp\\ipykernel_9608\\4051670539.py:4: UserWarning: pandas only supports SQLAlchemy connectable (engine/connection) or database string URI or sqlite3 DBAPI2 connection. Other DBAPI2 objects are not tested. Please consider using SQLAlchemy.\n",
      "  pay_history = pd.read_sql(\"SELECT * FROM [HumanResources].[EmployeePayHistory]\", conn)\n"
     ]
    }
   ],
   "source": [
    "\n",
    "department = pd.read_sql(\"SELECT * FROM [HumanResources].[Department]\", conn)\n",
    "employee = pd.read_sql(\"SELECT * FROM [HumanResources].[Employee]\", conn)\n",
    "dept_history = pd.read_sql(\"SELECT * FROM [HumanResources].[EmployeeDepartmentHistory]\", conn)\n",
    "pay_history = pd.read_sql(\"SELECT * FROM [HumanResources].[EmployeePayHistory]\", conn)\n",
    "dept_history['StartDate'] = pd.to_datetime(dept_history['StartDate'])\n",
    "dept_history['EndDate'] = pd.to_datetime(dept_history['EndDate'])"
   ]
  },
  {
   "cell_type": "code",
   "execution_count": 91,
   "id": "efc0d36f-0ddb-403b-9d4e-6ebefdb5f792",
   "metadata": {},
   "outputs": [
    {
     "name": "stdout",
     "output_type": "stream",
     "text": [
      "Empty DataFrame\n",
      "Columns: [DepartmentID, HiredLY]\n",
      "Index: []\n"
     ]
    }
   ],
   "source": [
    "#Number of employees hired in eahc department during the last year\n",
    "h_lastyr = (dept_history[dept_history['StartDate'].dt.year == p_yr].groupby('DepartmentID')['BusinessEntityID'].count().reset_index(name = 'HiredLY'))\n",
    "print(h_lastyr)"
   ]
  },
  {
   "cell_type": "markdown",
   "id": "87e1264a-16fe-4867-8c69-1fb37a5c24b8",
   "metadata": {},
   "source": [
    "**Hard Level**"
   ]
  },
  {
   "cell_type": "code",
   "execution_count": 93,
   "id": "0987bae9-8653-4b30-95eb-9e0266b8d8f0",
   "metadata": {},
   "outputs": [
    {
     "name": "stdout",
     "output_type": "stream",
     "text": [
      "Empty DataFrame\n",
      "Columns: [BusinessEntityID, TotalPay]\n",
      "Index: []\n"
     ]
    }
   ],
   "source": [
    "#Total Pay for each employee over past 3 years\n",
    "three_yrs_ago = pd.Timestamp.now() - pd.DateOffset(years = 3)\n",
    "recent_pay = pay_history[pay_history['RateChangeDate'] >= three_yrs_ago]\n",
    "total_pay = recent_pay.groupby('BusinessEntityID')['Rate'].sum().reset_index(name = 'TotalPay')\n",
    "print(total_pay)"
   ]
  },
  {
   "cell_type": "code",
   "execution_count": 94,
   "id": "bfc88875-f720-4603-aa80-5635abab2ee7",
   "metadata": {},
   "outputs": [
    {
     "name": "stdout",
     "output_type": "stream",
     "text": [
      "     BusinessEntityID RateChangeDate     Rate  PayFrequency ModifiedDate\n",
      "298               273     2011-02-15  72.1154             2   2014-06-30\n",
      "299               274     2011-01-04  48.1010             2   2014-06-30\n",
      "312               287     2012-04-16  48.1010             2   2014-06-30\n",
      "310               285     2013-03-14  48.1010             2   2014-06-30\n",
      "314               289     2012-05-30  23.0769             2   2014-06-30\n"
     ]
    }
   ],
   "source": [
    "#List the top 5 employees with the highest pay rates who work in the Sales department.\n",
    "sales_department_id = department[department['Name'] == 'Sales']['DepartmentID'].values[0]\n",
    "sales_emps = dept_history[dept_history['DepartmentID'] == sales_department_id]\n",
    "top_sales_employees = (pay_history[pay_history['BusinessEntityID'].isin(sales_emps['BusinessEntityID'])]\n",
    "                      .sort_values('Rate', ascending=False).head(5))\n",
    "print(top_sales_employees)"
   ]
  },
  {
   "cell_type": "code",
   "execution_count": 95,
   "id": "c2814b4c-7d9f-4c64-a672-8eb30a69077b",
   "metadata": {},
   "outputs": [
    {
     "name": "stdout",
     "output_type": "stream",
     "text": [
      "    DepartmentID  Tenure\n",
      "9             10  1747.0\n",
      "6              7   966.0\n",
      "0              1   907.0\n",
      "4              5   572.0\n",
      "12            13   349.0\n",
      "3              4   155.0\n",
      "1              2     NaN\n",
      "2              3     NaN\n",
      "5              6     NaN\n",
      "7              8     NaN\n",
      "8              9     NaN\n",
      "10            11     NaN\n",
      "11            12     NaN\n",
      "13            14     NaN\n",
      "14            15     NaN\n",
      "15            16     NaN\n"
     ]
    }
   ],
   "source": [
    "#Find the average tenure of employees in each department, ordered by the department with the longest average tenure.\n",
    "\n",
    "dept_history['Tenure'] = (dept_history['EndDate'] - dept_history['StartDate']).dt.days\n",
    "avg_tenure_by_department = (dept_history.groupby('DepartmentID')['Tenure']\n",
    "                            .mean().reset_index().sort_values('Tenure', ascending=False))\n",
    "print(avg_tenure_by_department)"
   ]
  },
  {
   "cell_type": "code",
   "execution_count": 96,
   "id": "84ec0de5-2eb0-4a8b-9d9e-7b37f0689a31",
   "metadata": {},
   "outputs": [
    {
     "name": "stdout",
     "output_type": "stream",
     "text": [
      "   Gender  DepartmentID  EmployeeCount\n",
      "0       F             1              3\n",
      "1       F             2              1\n",
      "2       F             3              7\n",
      "3       F             4              5\n",
      "4       F             5              4\n",
      "5       F             6              2\n",
      "6       F             7             46\n",
      "7       F             9              2\n",
      "8       F            10              6\n",
      "9       F            11              4\n",
      "10      F            12              1\n",
      "11      F            13              1\n",
      "12      F            14              2\n",
      "13      F            15              2\n",
      "14      F            16              1\n",
      "15      M             1              4\n",
      "16      M             2              3\n",
      "17      M             3             11\n",
      "18      M             4              5\n",
      "19      M             5              9\n",
      "20      M             6              2\n",
      "21      M             7            134\n",
      "22      M             8              6\n",
      "23      M             9              4\n",
      "24      M            10              5\n",
      "25      M            11              6\n",
      "26      M            12              4\n",
      "27      M            13              6\n",
      "28      M            14              5\n",
      "29      M            15              4\n",
      "30      M            16              1\n"
     ]
    }
   ],
   "source": [
    "#Get the count of employees grouped by gender and department, including those with no department assigned.\n",
    "\n",
    "dept_history = dept_history.merge(employee[['BusinessEntityID', 'Gender']], on='BusinessEntityID', how='left')\n",
    "employee_count_by_gender_and_dept = (dept_history.groupby(['Gender', 'DepartmentID']).size().reset_index(name='EmployeeCount'))\n",
    "print(employee_count_by_gender_and_dept)"
   ]
  },
  {
   "cell_type": "code",
   "execution_count": 97,
   "id": "eb90da32-2eed-46b0-9702-1a418a18bd51",
   "metadata": {},
   "outputs": [
    {
     "name": "stdout",
     "output_type": "stream",
     "text": [
      "Empty DataFrame\n",
      "Columns: [DepartmentID, Rate]\n",
      "Index: []\n"
     ]
    }
   ],
   "source": [
    "#Find the top 3 departments where employees have the highest average pay over the past 5 years.\n",
    "five_years_ago = pd.Timestamp.now() - pd.DateOffset(years=5)\n",
    "recent_pay_history = pay_history[pay_history['RateChangeDate'] >= five_years_ago]\n",
    "avg_pay_by_department = (recent_pay_history.merge(dept_history, on='BusinessEntityID')\n",
    "                         .groupby('DepartmentID')['Rate'].mean()\n",
    "                         .reset_index().sort_values('Rate', ascending=False).head(3))\n",
    "print(avg_pay_by_department)"
   ]
  },
  {
   "cell_type": "markdown",
   "id": "8aefd905-8c3b-4613-8045-2639ee99badb",
   "metadata": {},
   "source": [
    "**Advanced**"
   ]
  },
  {
   "cell_type": "code",
   "execution_count": 118,
   "id": "acbf35d1-1983-4dc3-9df8-e33586c12c5e",
   "metadata": {},
   "outputs": [
    {
     "name": "stdout",
     "output_type": "stream",
     "text": [
      "     BusinessEntityID  CumulativeIncrease\n",
      "0                   1              0.0000\n",
      "1                   2              0.0000\n",
      "2                   3              0.0000\n",
      "3                   4             21.2262\n",
      "4                   5              0.0000\n",
      "..                ...                 ...\n",
      "285               286              0.0000\n",
      "286               287              0.0000\n",
      "287               288              0.0000\n",
      "288               289              0.0000\n",
      "289               290              0.0000\n",
      "\n",
      "[290 rows x 2 columns]\n"
     ]
    }
   ],
   "source": [
    "#Calculate the cumulative pay increase for each employee over time in the EmployeePayHistory table.\n",
    "\n",
    "pay_history = pay_history.sort_values(['BusinessEntityID', 'RateChangeDate'])\n",
    "pay_history['RateDifference'] = pay_history.groupby('BusinessEntityID')['Rate'].diff().fillna(0)\n",
    "cumulative_increase = pay_history.groupby('BusinessEntityID')['RateDifference'].sum().reset_index(name='CumulativeIncrease')\n",
    "print(cumulative_increase)"
   ]
  },
  {
   "cell_type": "code",
   "execution_count": 128,
   "id": "b30071aa-b5c9-441b-816b-5cb642cf8d72",
   "metadata": {},
   "outputs": [
    {
     "name": "stdout",
     "output_type": "stream",
     "text": [
      "   BusinessEntityID  DepartmentID\n",
      "0                 4             2\n",
      "1                16             2\n",
      "2               224             2\n",
      "3               234             2\n",
      "4               250             3\n"
     ]
    }
   ],
   "source": [
    "#Retrieve employees who have worked in more than one department.\n",
    "employee_department_count = dept_history.groupby('BusinessEntityID')['DepartmentID'].nunique()\n",
    "multi_dept_employees = employee_department_count[employee_department_count > 1].reset_index()\n",
    "print(multi_dept_employees)"
   ]
  },
  {
   "cell_type": "code",
   "execution_count": 130,
   "id": "ba26fbda-5b72-489c-bc77-9dddfb70f6b4",
   "metadata": {},
   "outputs": [
    {
     "name": "stdout",
     "output_type": "stream",
     "text": [
      "Empty DataFrame\n",
      "Columns: [DepartmentID, TotalPay]\n",
      "Index: []\n"
     ]
    }
   ],
   "source": [
    "#Find the total pay spent per department over the last 2 years.\n",
    "two_years_ago = pd.Timestamp.now() - pd.DateOffset(years=2)\n",
    "recent_pay_history = pay_history[pay_history['RateChangeDate'] >= two_years_ago]\n",
    "total_pay_by_department = (recent_pay_history.merge(dept_history, on='BusinessEntityID')\n",
    "                          .groupby('DepartmentID')['Rate'].sum().reset_index(name='TotalPay'))\n",
    "print(total_pay_by_department)"
   ]
  },
  {
   "cell_type": "code",
   "execution_count": 134,
   "id": "e5e2292b-46d6-498a-ab2b-8f5030ccbbf5",
   "metadata": {},
   "outputs": [
    {
     "name": "stdout",
     "output_type": "stream",
     "text": [
      "Empty DataFrame\n",
      "Columns: [BusinessEntityID, PayChanges]\n",
      "Index: []\n"
     ]
    }
   ],
   "source": [
    "#List the employees who have had the most pay rate changes in the last 5 years.\n",
    "\n",
    "rate_changes_last_5_years = (pay_history[pay_history['RateChangeDate'] >= five_years_ago]\n",
    "                            .groupby('BusinessEntityID')['Rate'].count().reset_index(name='PayChanges')\n",
    "                            .sort_values('PayChanges', ascending=False).head(5))\n",
    "print(rate_changes_last_5_years)"
   ]
  },
  {
   "cell_type": "code",
   "execution_count": 136,
   "id": "b6e7c07a-6934-4f5b-8d9c-dcc7f0a979c5",
   "metadata": {},
   "outputs": [
    {
     "name": "stdout",
     "output_type": "stream",
     "text": [
      "     BusinessEntityID  TotalPay  Rank\n",
      "0                   1  125.5000   2.0\n",
      "1                   2   63.4615   6.0\n",
      "2                   3   43.2692  14.5\n",
      "3                   4   62.1862   8.0\n",
      "4                   5   32.6923  26.0\n",
      "..                ...       ...   ...\n",
      "285               286   23.0769  78.5\n",
      "286               287   48.1010  12.0\n",
      "287               288   23.0769  78.5\n",
      "288               289   23.0769  78.5\n",
      "289               290   23.0769  78.5\n",
      "\n",
      "[290 rows x 3 columns]\n"
     ]
    }
   ],
   "source": [
    "#Rank employees by their cumulative pay over their entire employment period in the company.\n",
    "\n",
    "\n",
    "cumulative_pay = pay_history.groupby('BusinessEntityID')['Rate'].sum().reset_index(name='TotalPay')\n",
    "cumulative_pay['Rank'] = cumulative_pay['TotalPay'].rank(ascending=False)\n",
    "print(cumulative_pay)"
   ]
  }
 ],
 "metadata": {
  "kernelspec": {
   "display_name": "Python 3 (ipykernel)",
   "language": "python",
   "name": "python3"
  },
  "language_info": {
   "codemirror_mode": {
    "name": "ipython",
    "version": 3
   },
   "file_extension": ".py",
   "mimetype": "text/x-python",
   "name": "python",
   "nbconvert_exporter": "python",
   "pygments_lexer": "ipython3",
   "version": "3.11.5"
  }
 },
 "nbformat": 4,
 "nbformat_minor": 5
}
